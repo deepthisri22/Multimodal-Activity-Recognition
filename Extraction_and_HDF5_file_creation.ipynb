{
 "cells": [
  {
   "cell_type": "code",
   "execution_count": null,
   "metadata": {},
   "outputs": [],
   "source": [
    "import numpy as np\n",
    "import pandas as pd\n",
    "import os\n",
    "import tensorflow as tf\n",
    "import cv2\n",
    "import csv\n",
    "import h5py\n",
    "import random\n",
    "import matplotlib.pyplot as plt"
   ]
  },
  {
   "cell_type": "markdown",
   "metadata": {},
   "source": [
    "# Extraction every 5 seconds"
   ]
  },
  {
   "cell_type": "code",
   "execution_count": null,
   "metadata": {},
   "outputs": [],
   "source": [
    "data_l = np.load('/bigpool/Team3/OneSec/P10_OneSec_Label_Final.npz')\n",
    "label = data_l['label_person_np']\n",
    "data_g = np.load('/bigpool/Team3/OneSec/P10_OneSec_Gaze30_Final.npz')\n",
    "gaze = data_g['gaze_person_np']\n",
    "\n",
    "#comparison of time stamps\n",
    "label_time = label[:,0]\n",
    "gaze_time = gaze[:,1,0]\n",
    "print(np.array_equal(label_time, gaze_time))\n",
    "\n",
    "# taking samples every 5 second instead of every second --> label and gaze\n",
    "(n,) = label[:,0].shape\n",
    "\n",
    "m = n/5\n",
    "r = n%5\n",
    "if r == 0:\n",
    "    mi = int(m)\n",
    "else:\n",
    "    mi = int(m) + 1\n",
    "\n",
    "in_prep = np.arange(0,mi)\n",
    "index = in_prep * 5\n",
    "\n",
    "label_5sec = np.take(label,index,axis = 0)\n",
    "gaze_5sec = np.take(gaze,index,axis = 0)\n",
    "\n",
    "np.savez('/bigpool/Team3/FiveSec/P10_FiveSec_Label.npz',label_5sec = label_5sec)\n",
    "np.savez('/bigpool/Team3/P10_FiveSec_Gaze_New.npz',gaze_5sec = gaze_5sec)"
   ]
  },
  {
   "cell_type": "code",
   "execution_count": 1,
   "metadata": {},
   "outputs": [],
   "source": [
    "# taking samples every 5 second instead of every second --> for frame numbers and timestamps of images --> maintained just for tracking\n",
    "\n",
    "data_tf = np.load('/bigpool/Team3/P10_Timestamp_Frames_Both.npz')\n",
    "time_stamp_frame = data_tf['total_timestamp']\n",
    "time_stamp_frame = time_stamp_frame.astype(int)\n",
    "(n,) = time_stamp_frame[:,0].shape\n",
    "m = n/5\n",
    "r = n%5\n",
    "if r == 0:\n",
    "    mi = int(m)\n",
    "else:\n",
    "    mi = int(m) + 1\n",
    "    \n",
    "in_prep = np.arange(0,mi)\n",
    "index = in_prep * 5\n",
    "\n",
    "time_frame_both_5sec = np.take(time_stamp_frame,index,axis = 0)\n",
    "\n",
    "np.savez('/bigpool/Team3/P10_FiveSec_TimeStamps_Frmaes_Both.npz',time_frame_both_5sec = time_frame_both_5sec)\n",
    "\n",
    "\n",
    "# taking samples every 5 second instead of every second --> for images of scene information\n",
    "\n",
    "data_v = np.load('/bigpool/Team3/P04_OneSec_Frames.npz')\n",
    "video = data_v['input1']\n",
    "\n",
    "n = video.shape[0]\n",
    "\n",
    "m = n/5\n",
    "r = n%5\n",
    "if r == 0:\n",
    "    mi = int(m)\n",
    "else:\n",
    "    mi = int(m) + 1\n",
    "\n",
    "in_prep = np.arange(0,mi)\n",
    "index = in_prep * 5  \n",
    "\n",
    "video_5sec = np.take(video,index,axis = 0)\n",
    "\n",
    "np.savez('/bigpool/Team3/P04_FiveSec_Frames.npz',video_5sec = video_5sec)"
   ]
  },
  {
   "cell_type": "markdown",
   "metadata": {},
   "source": [
    "# HDF5 creation"
   ]
  },
  {
   "cell_type": "code",
   "execution_count": 2,
   "metadata": {},
   "outputs": [],
   "source": [
    "DATA_PATH = \"./FiveSec/\""
   ]
  },
  {
   "cell_type": "code",
   "execution_count": null,
   "metadata": {},
   "outputs": [],
   "source": [
    "hf = h5py.File(DATA_PATH + 'data.h5', 'a')\n",
    "for s in [\"Training_Set\", \"Validation_Set\", \"Testing_Set\"]:\n",
    "    if (not(s in hf.keys() )):\n",
    "        x = hf.create_group(s)#create separate group for training , testing and validation set\n",
    "    else:\n",
    "        x = hf[s]"
   ]
  },
  {
   "cell_type": "code",
   "execution_count": null,
   "metadata": {},
   "outputs": [],
   "source": [
    "for p in range(1, 11):     \n",
    "    if ((p == 3) | (p == 8)):\n",
    "        Set = \"Testing_Set\"\n",
    "    elif (p == 6):\n",
    "        Set = \"Validation_Set\"\n",
    "    else:\n",
    "        Set = \"Training_Set\"\n",
    "        \n",
    "    print(\"%sP%02d_FiveSec_Label.npz\" % (DATA_PATH, p,))\n",
    "    label = np.load(\"%sP%02d_FiveSec_Label.npz\" % (DATA_PATH, p,))\n",
    "    if ('Total_Label' in hf[Set].keys()):\n",
    "        hf[Set + '/Total_Label'].resize((hf[Set + '/Total_Label'].shape[0] + label['label_5sec'].shape[0]), axis = 0)\n",
    "        hf[Set + '/Total_Label'][-label['label_5sec'].shape[0]:] = label['label_5sec']\n",
    "    else:        \n",
    "        print(\"New Total_Label in %s\"  % Set)\n",
    "        hf[Set].create_dataset(\"Total_Label\", data= label['label_5sec'], maxshape = (None,10)) #create dataset for labels\n",
    "    label.close()\n",
    "\n",
    "    print(\"%sP%02d_FiveSec_Gaze.npz\" % (DATA_PATH, p,))\n",
    "    gaze = np.load(\"%sP%02d_FiveSec_Gaze.npz\" % (DATA_PATH, p,))\n",
    "    if ('Total_Gaze' in hf[Set].keys()):\n",
    "        hf[Set + '/Total_Gaze'].resize((hf[Set + '/Total_Gaze'].shape[0] + gaze['gaze_5sec'].shape[0]), axis = 0)\n",
    "        hf[Set + '/Total_Gaze'][-gaze['gaze_5sec'].shape[0]:] = gaze['gaze_5sec']\n",
    "    else:\n",
    "        print(\"New Total_Gaze in %s\"  % Set)\n",
    "        hf[Set].create_dataset(\"Total_Gaze\", data= gaze['gaze_5sec'], maxshape = (None,30,9)) #create dataset for gaze\n",
    "    gaze.close()\n",
    "\n",
    "    print(\"%sP%02d_FiveSec_Frames.npz\" % (DATA_PATH, p,))\n",
    "    video = np.load(\"%sP%02d_FiveSec_Frames.npz\" % (DATA_PATH, p,))\n",
    "    frames = video['video_5sec']\n",
    "    lst = []\n",
    "    size = np.array(frames.shape) // 2\n",
    "    for i in range(len(frames)):\n",
    "        lst.append(cv2.resize(frames[i], (size[2], size[1]), interpolation=cv2.INTER_LANCZOS4))\n",
    "    imgs = np.concatenate(lst)\n",
    "    imgs = imgs.reshape(-1, size[1],  size[2], 3)\n",
    "    \n",
    "    if ('Total_Video' in hf[Set].keys()):\n",
    "        hf[Set + '/Total_Video'].resize((hf[Set + '/Total_Video'].shape[0] + imgs.shape[0]), axis = 0)\n",
    "        hf[Set + '/Total_Video'][-imgs.shape[0]:] = imgs\n",
    "    else:\n",
    "        print(\"New Total_Video in %s\"  % Set)\n",
    "        hf[Set].create_dataset(\"Total_Video\", data=imgs, maxshape = (None, size[1],  size[2], 3))#create dataset for frames\n",
    "    del imgs\n",
    "    del frames\n",
    "    video.close()"
   ]
  },
  {
   "cell_type": "markdown",
   "metadata": {},
   "source": [
    "# Extraction every 10 seconds"
   ]
  },
  {
   "cell_type": "code",
   "execution_count": null,
   "metadata": {},
   "outputs": [],
   "source": [
    "HDF5_PATH = \"/bigpool/Team3/FiveSec/data.h5\"\n",
    "\n",
    "hdf = h5py.File(HDF5_PATH, \"r\")\n",
    "#data with samples every 5 second (inclusion of augmented data)\n",
    "Train_v = hdf['Validation_Set/Total_Video']\n",
    "Train_g = hdf['Validation_Set/Total_Gaze']\n",
    "Train_l = hdf['Validation_Set/Total_Label']\n",
    "\n",
    "# taking samples every 10 second instead of every 5 second \n",
    "n = Train_v.shape[0]\n",
    "m = n/2\n",
    "r = n%2\n",
    "if r == 0:\n",
    "    mi = int(m)\n",
    "else:\n",
    "    mi = int(m) + 1\n",
    "    \n",
    "print(m)\n",
    "print(mi)\n",
    "in_prep = np.arange(0,mi)\n",
    "index = in_prep * 2\n",
    "video_10sec = (np.take(Train_v,index,axis = 0))/255 #/255 is for normalization of the images\n",
    "gaze_10sec = np.take(Train_g,index,axis = 0)\n",
    "label_10sec = np.take(Train_l,index,axis = 0)\n",
    "\n",
    "video_10sec = video_10sec.astype(np.float32)# convertion to float32 from float64\n",
    "\n",
    "np.savez(\"S_Val/S_Validation_video_10sec_norm.npz\",video_10sec = video_10sec)\n",
    "np.savez(\"S_Val/S_Validation_gaze_10sec.npz\",gaze_10sec = gaze_10sec)\n",
    "np.savez(\"S_Val/S_Validation_label_10sec.npz\",label_10sec = label_10sec)\n",
    "\n",
    "#same code can be slightly modified (like chanGing the file directory) to prepare data for Testing and Training"
   ]
  }
 ],
 "metadata": {
  "kernelspec": {
   "display_name": "Python 3",
   "language": "python",
   "name": "python3"
  },
  "language_info": {
   "codemirror_mode": {
    "name": "ipython",
    "version": 3
   },
   "file_extension": ".py",
   "mimetype": "text/x-python",
   "name": "python",
   "nbconvert_exporter": "python",
   "pygments_lexer": "ipython3",
   "version": "3.6.7"
  }
 },
 "nbformat": 4,
 "nbformat_minor": 2
}
