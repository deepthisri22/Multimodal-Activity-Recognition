{
 "cells": [
  {
   "cell_type": "code",
   "execution_count": 1,
   "metadata": {},
   "outputs": [],
   "source": [
    "import tensorflow as tf\n",
    "import os\n",
    "config = tf.ConfigProto()\n",
    "config.log_device_placement = True\n",
    "config.allow_soft_placement = True\n",
    "config.gpu_options.allocator_type = 'BFC'\n",
    "config.gpu_options.per_process_gpu_memory_fraction = 0.1"
   ]
  },
  {
   "cell_type": "code",
   "execution_count": 2,
   "metadata": {},
   "outputs": [
    {
     "name": "stderr",
     "output_type": "stream",
     "text": [
      "Using TensorFlow backend.\n"
     ]
    }
   ],
   "source": [
    "import numpy as np\n",
    "import pandas as pd\n",
    "import os\n",
    "import tensorflow as tf\n",
    "import cv2\n",
    "import csv\n",
    "import h5py\n",
    "import random\n",
    "import keras"
   ]
  },
  {
   "cell_type": "code",
   "execution_count": 3,
   "metadata": {},
   "outputs": [],
   "source": [
    "from keras.models import Sequential, Model\n",
    "from keras.layers.core import Dense, Lambda, Flatten, Reshape, Dropout\n",
    "from keras.layers.convolutional import Conv2D, UpSampling2D,Cropping2D,ZeroPadding2D,Conv1D, UpSampling1D,Cropping1D,ZeroPadding1D\n",
    "from keras.layers.pooling import MaxPooling2D,  MaxPooling1D\n",
    "from keras.layers.merge import Concatenate, Add\n",
    "from keras.layers import Input\n",
    "from keras.models import Sequential\n",
    "from keras import optimizers\n",
    "from keras import losses\n",
    "from keras import metrics\n",
    "from keras.layers.normalization import BatchNormalization\n",
    "from keras.layers import Activation\n",
    "import matplotlib.pyplot as plt\n",
    "from keras import backend as K\n",
    "%matplotlib inline\n",
    "\n",
    "from keras.utils import plot_model\n",
    "from keras.models import Model\n",
    "from keras.layers import Input\n",
    "from keras.layers import Dense\n",
    "from keras.layers import Flatten\n",
    "from keras.layers.convolutional import Conv2D\n",
    "from keras.layers.pooling import MaxPooling2D, AveragePooling2D\n",
    "from keras.layers.merge import concatenate\n",
    "from keras.models import load_model\n",
    "\n",
    "from sklearn.metrics import hamming_loss\n",
    "from sklearn.metrics import confusion_matrix"
   ]
  },
  {
   "cell_type": "code",
   "execution_count": null,
   "metadata": {},
   "outputs": [],
   "source": [
    "#coping the training data to numpy variables\n",
    "data_v = np.load(\"S_Train/S_Training_video_10sec_norm.npz\")\n",
    "video = data_v['video_10sec']\n",
    "data_g = np.load(\"S_Train/S_Training_gaze_10sec.npz\")\n",
    "gaze = data_g['gaze_10sec']\n",
    "data_l = np.load(\"S_Train/S_Training_label_10sec.npz\")\n",
    "label = data_l['label_10sec']\n",
    "\n",
    "#coping the Testing data to numpy variables\n",
    "data_vv = np.load(\"S_Val/S_Validation_video_10sec_norm.npz\")\n",
    "video_v = data_vv['video_10sec']\n",
    "data_vg = np.load(\"S_Val/S_Validation_gaze_10sec.npz\")\n",
    "gaze_v = data_vg['gaze_10sec']\n",
    "data_vl = np.load(\"S_Val/S_Validation_label_10sec.npz\")\n",
    "label_v = data_vl['label_10sec']\n",
    "\n",
    "#coping the Validation data to numpy variables\n",
    "data_tv = np.load(\"S_Test/S_Testing_video_10sec_norm.npz\")\n",
    "video_t = data_tv['video_10sec']\n",
    "data_tg = np.load(\"S_Test/S_Testing_gaze_10sec.npz\")\n",
    "gaze_t = data_tg['gaze_10sec']\n",
    "data_tl = np.load(\"S_Test/S_Testing_label_10sec.npz\")\n",
    "label_t = data_tl['label_10sec']\n",
    "\n"
   ]
  },
  {
   "cell_type": "code",
   "execution_count": null,
   "metadata": {},
   "outputs": [],
   "source": [
    "#getting the shape paramaeters\n",
    "(n_v,r_v,c_v,ch_v) = video.shape"
   ]
  },
  {
   "cell_type": "code",
   "execution_count": null,
   "metadata": {},
   "outputs": [],
   "source": [
    "#setting the input shape\n",
    "input_shape1 = (r_v, c_v, ch_v)\n",
    "input_shape2 = (30,2,1)"
   ]
  },
  {
   "cell_type": "code",
   "execution_count": null,
   "metadata": {},
   "outputs": [],
   "source": [
    "#taking only gaze x and gaze y and taking only the label encoding for training set\n",
    "gaze_q = gaze[:,:,(1,2)]\n",
    "label_q = label[:,(1,2,3,4,5,6,7,8,9)]\n",
    "#reshaping the gaze input suitable for CNN(Training)\n",
    "(l,m,n) = gaze_q.shape\n",
    "gaze_q = np.reshape(gaze_q,(l,m,n,1))"
   ]
  },
  {
   "cell_type": "code",
   "execution_count": null,
   "metadata": {},
   "outputs": [],
   "source": [
    "#taking only gaze x and gaze y and taking only the label encoding for testing set\n",
    "gaze_qv = gaze_v[:,:,(1,2)]\n",
    "label_qv = label_v[:,(1,2,3,4,5,6,7,8,9)]\n",
    "#reshaping the gaze input suitable for CNN(Testing)\n",
    "(lv,mv,nv) = gaze_qv.shape\n",
    "gaze_qv = np.reshape(gaze_qv,(lv,mv,nv,1))"
   ]
  },
  {
   "cell_type": "code",
   "execution_count": null,
   "metadata": {},
   "outputs": [],
   "source": [
    "#taking only gaze x and gaze y and taking only the label encoding for validation set\n",
    "gaze_qt = gaze_t[:,:,(1,2)]\n",
    "label_qt = label_t[:,(1,2,3,4,5,6,7,8,9)]\n",
    "#reshaping the gaze input suitable for CNN(Validation)\n",
    "(lt,mt,nt) = gaze_qt.shape\n",
    "gaze_qt = np.reshape(gaze_qt,(lt,mt,nt,1))"
   ]
  },
  {
   "cell_type": "code",
   "execution_count": 3,
   "metadata": {},
   "outputs": [],
   "source": [
    "#definition of the loss function\n",
    "def multitask_loss(y_true, y_pred):\n",
    "            # Avoid divide by 0\n",
    "            y_pred = K.clip(y_pred, K.epsilon(), 1 - K.epsilon())\n",
    "            # Multi-task loss\n",
    "            return K.mean(K.sum(- y_true * K.log(y_pred) - (1 - y_true) * K.log(1 - y_pred), axis=1))"
   ]
  },
  {
   "cell_type": "code",
   "execution_count": 40,
   "metadata": {},
   "outputs": [
    {
     "name": "stdout",
     "output_type": "stream",
     "text": [
      "__________________________________________________________________________________________________\n",
      "Layer (type)                    Output Shape         Param #     Connected to                     \n",
      "==================================================================================================\n",
      "input_11 (InputLayer)           (None, 90, 160, 3)   0                                            \n",
      "__________________________________________________________________________________________________\n",
      "conv2d_16 (Conv2D)              (None, 86, 156, 7)   532         input_11[0][0]                   \n",
      "__________________________________________________________________________________________________\n",
      "input_12 (InputLayer)           (None, 30, 2, 1)     0                                            \n",
      "__________________________________________________________________________________________________\n",
      "dropout_16 (Dropout)            (None, 86, 156, 7)   0           conv2d_16[0][0]                  \n",
      "__________________________________________________________________________________________________\n",
      "conv2d_18 (Conv2D)              (None, 29, 1, 8)     40          input_12[0][0]                   \n",
      "__________________________________________________________________________________________________\n",
      "conv2d_17 (Conv2D)              (None, 86, 156, 4)   256         dropout_16[0][0]                 \n",
      "__________________________________________________________________________________________________\n",
      "dropout_17 (Dropout)            (None, 29, 1, 8)     0           conv2d_18[0][0]                  \n",
      "__________________________________________________________________________________________________\n",
      "max_pooling2d_11 (MaxPooling2D) (None, 28, 52, 4)    0           conv2d_17[0][0]                  \n",
      "__________________________________________________________________________________________________\n",
      "max_pooling2d_12 (MaxPooling2D) (None, 10, 1, 8)     0           dropout_17[0][0]                 \n",
      "__________________________________________________________________________________________________\n",
      "flatten_16 (Flatten)            (None, 5824)         0           max_pooling2d_11[0][0]           \n",
      "__________________________________________________________________________________________________\n",
      "flatten_17 (Flatten)            (None, 80)           0           max_pooling2d_12[0][0]           \n",
      "__________________________________________________________________________________________________\n",
      "concatenate_6 (Concatenate)     (None, 5904)         0           flatten_16[0][0]                 \n",
      "                                                                 flatten_17[0][0]                 \n",
      "__________________________________________________________________________________________________\n",
      "reshape_6 (Reshape)             (None, 5904, 1)      0           concatenate_6[0][0]              \n",
      "__________________________________________________________________________________________________\n",
      "conv1d_6 (Conv1D)               (None, 5893, 3)      39          reshape_6[0][0]                  \n",
      "__________________________________________________________________________________________________\n",
      "dropout_18 (Dropout)            (None, 5893, 3)      0           conv1d_6[0][0]                   \n",
      "__________________________________________________________________________________________________\n",
      "max_pooling1d_6 (MaxPooling1D)  (None, 294, 3)       0           dropout_18[0][0]                 \n",
      "__________________________________________________________________________________________________\n",
      "flatten_18 (Flatten)            (None, 882)          0           max_pooling1d_6[0][0]            \n",
      "__________________________________________________________________________________________________\n",
      "dense_6 (Dense)                 (None, 9)            7947        flatten_18[0][0]                 \n",
      "==================================================================================================\n",
      "Total params: 8,814\n",
      "Trainable params: 8,814\n",
      "Non-trainable params: 0\n",
      "__________________________________________________________________________________________________\n",
      "None\n"
     ]
    }
   ],
   "source": [
    "# Model for Scene Input\n",
    "scene_input_layer = Input(shape=input_shape1)\n",
    "convolution_layer11 = Conv2D(7, kernel_size=5, activation='relu')(scene_input_layer)\n",
    "convolution_layer11 = Dropout(0.4)(convolution_layer11)\n",
    "convolution_layer12 = Conv2D(4, kernel_size=3,padding = 'same', activation='relu')(convolution_layer11)\n",
    "pooling_layer12 = MaxPooling2D(pool_size=(3, 3))(convolution_layer12)\n",
    "flattened_layer1 = Flatten()(pooling_layer12)\n",
    "\n",
    "# Model for Gaze Input\n",
    "gaze_input_layer = Input(shape=input_shape2)\n",
    "convolution_layer21 = Conv2D(8, kernel_size=2, activation='relu')(gaze_input_layer)\n",
    "convolution_layer21 = Dropout(0.4)(convolution_layer21)\n",
    "pooling_layer21 = MaxPooling2D(pool_size=(3, 3),padding= 'same')(convolution_layer21)\n",
    "flattened_layer2 = Flatten()(pooling_layer21)\n",
    "\n",
    "\n",
    "concatenated_layer = concatenate([flattened_layer1, flattened_layer2])\n",
    "\n",
    "# Third model\n",
    "concatenated_layer = Reshape((-1,1))(concatenated_layer)\n",
    "convolution_layer31 = Conv1D(3, kernel_size=12, activation='relu')(concatenated_layer)\n",
    "convolution_layer31 = Dropout(0.4)(convolution_layer31)\n",
    "pooling_layer31 = MaxPooling1D(pool_size=20,)(convolution_layer31)\n",
    "flattened_layer3 = Flatten()(pooling_layer31)\n",
    "output_layer = Dense(9, activation='sigmoid')(flattened_layer3)\n",
    "model = Model(inputs=[scene_input_layer, gaze_input_layer], outputs=output_layer)\n",
    "\n",
    "# Model Summary\n",
    "print(model.summary())\n",
    "\n",
    "\n",
    "model.compile(optimizer='Adam', loss=multitask_loss, metrics = [multitask_loss,'accuracy'])\n",
    "\n"
   ]
  },
  {
   "cell_type": "code",
   "execution_count": 41,
   "metadata": {},
   "outputs": [
    {
     "name": "stdout",
     "output_type": "stream",
     "text": [
      "Train on 22717 samples, validate on 6765 samples\n",
      "Epoch 1/100\n",
      "22717/22717 [==============================] - 16s 716us/step - loss: 4.8332 - multitask_loss: 4.8332 - acc: 0.1026 - val_loss: 5.0460 - val_multitask_loss: 5.0460 - val_acc: 0.0820\n",
      "Epoch 2/100\n",
      "22717/22717 [==============================] - 15s 676us/step - loss: 4.3825 - multitask_loss: 4.3825 - acc: 0.1799 - val_loss: 4.9616 - val_multitask_loss: 4.9616 - val_acc: 0.1252\n",
      "Epoch 3/100\n",
      "22717/22717 [==============================] - 15s 680us/step - loss: 4.3203 - multitask_loss: 4.3203 - acc: 0.1819 - val_loss: 4.9688 - val_multitask_loss: 4.9688 - val_acc: 0.0816\n",
      "Epoch 4/100\n",
      "22717/22717 [==============================] - 16s 685us/step - loss: 4.2909 - multitask_loss: 4.2909 - acc: 0.1989 - val_loss: 4.9587 - val_multitask_loss: 4.9587 - val_acc: 0.1008\n",
      "Epoch 5/100\n",
      "22717/22717 [==============================] - 16s 683us/step - loss: 4.2753 - multitask_loss: 4.2753 - acc: 0.1930 - val_loss: 4.9923 - val_multitask_loss: 4.9923 - val_acc: 0.1023\n",
      "Epoch 6/100\n",
      "22717/22717 [==============================] - 16s 688us/step - loss: 4.2605 - multitask_loss: 4.2605 - acc: 0.1980 - val_loss: 5.0172 - val_multitask_loss: 5.0172 - val_acc: 0.1050\n",
      "Epoch 7/100\n",
      "22717/22717 [==============================] - 15s 680us/step - loss: 4.2475 - multitask_loss: 4.2475 - acc: 0.2098 - val_loss: 5.0630 - val_multitask_loss: 5.0630 - val_acc: 0.0942\n",
      "Epoch 8/100\n",
      "22717/22717 [==============================] - 15s 677us/step - loss: 4.2285 - multitask_loss: 4.2285 - acc: 0.2115 - val_loss: 5.1099 - val_multitask_loss: 5.1099 - val_acc: 0.0924\n",
      "Epoch 9/100\n",
      "22717/22717 [==============================] - 16s 689us/step - loss: 4.2038 - multitask_loss: 4.2038 - acc: 0.2085 - val_loss: 5.1851 - val_multitask_loss: 5.1851 - val_acc: 0.0911\n",
      "Epoch 10/100\n",
      "22717/22717 [==============================] - 16s 692us/step - loss: 4.1602 - multitask_loss: 4.1602 - acc: 0.2116 - val_loss: 5.1877 - val_multitask_loss: 5.1877 - val_acc: 0.1217\n",
      "Epoch 11/100\n",
      "22717/22717 [==============================] - 15s 682us/step - loss: 4.0943 - multitask_loss: 4.0943 - acc: 0.2282 - val_loss: 5.1322 - val_multitask_loss: 5.1322 - val_acc: 0.1557\n",
      "Epoch 12/100\n",
      "22717/22717 [==============================] - 15s 680us/step - loss: 3.9997 - multitask_loss: 3.9997 - acc: 0.2451 - val_loss: 5.0144 - val_multitask_loss: 5.0144 - val_acc: 0.1632\n",
      "Epoch 13/100\n",
      "22717/22717 [==============================] - 16s 683us/step - loss: 3.9072 - multitask_loss: 3.9072 - acc: 0.2554 - val_loss: 4.9104 - val_multitask_loss: 4.9104 - val_acc: 0.1761\n",
      "Epoch 14/100\n",
      "22717/22717 [==============================] - 16s 684us/step - loss: 3.8387 - multitask_loss: 3.8387 - acc: 0.2707 - val_loss: 4.9584 - val_multitask_loss: 4.9584 - val_acc: 0.1475\n",
      "Epoch 15/100\n",
      "22717/22717 [==============================] - 15s 681us/step - loss: 3.7890 - multitask_loss: 3.7890 - acc: 0.2650 - val_loss: 4.8389 - val_multitask_loss: 4.8389 - val_acc: 0.1682\n",
      "Epoch 16/100\n",
      "22717/22717 [==============================] - 15s 681us/step - loss: 3.7515 - multitask_loss: 3.7515 - acc: 0.2826 - val_loss: 4.8052 - val_multitask_loss: 4.8052 - val_acc: 0.1384\n",
      "Epoch 17/100\n",
      "22717/22717 [==============================] - 16s 684us/step - loss: 3.7138 - multitask_loss: 3.7138 - acc: 0.2888 - val_loss: 4.7595 - val_multitask_loss: 4.7595 - val_acc: 0.1601\n",
      "Epoch 18/100\n",
      "22717/22717 [==============================] - 16s 685us/step - loss: 3.6918 - multitask_loss: 3.6918 - acc: 0.3019 - val_loss: 4.7260 - val_multitask_loss: 4.7260 - val_acc: 0.1450\n",
      "Epoch 19/100\n",
      "22717/22717 [==============================] - 15s 681us/step - loss: 3.6616 - multitask_loss: 3.6616 - acc: 0.3001 - val_loss: 4.7304 - val_multitask_loss: 4.7304 - val_acc: 0.1499\n",
      "Epoch 20/100\n",
      "22717/22717 [==============================] - 16s 683us/step - loss: 3.6426 - multitask_loss: 3.6426 - acc: 0.3111 - val_loss: 4.6908 - val_multitask_loss: 4.6908 - val_acc: 0.1557\n",
      "Epoch 21/100\n",
      "22717/22717 [==============================] - 15s 668us/step - loss: 3.6168 - multitask_loss: 3.6168 - acc: 0.3206 - val_loss: 4.6875 - val_multitask_loss: 4.6875 - val_acc: 0.1419\n",
      "Epoch 22/100\n",
      "22717/22717 [==============================] - 15s 676us/step - loss: 3.6147 - multitask_loss: 3.6147 - acc: 0.3206 - val_loss: 4.6712 - val_multitask_loss: 4.6712 - val_acc: 0.1353\n",
      "Epoch 23/100\n",
      "22717/22717 [==============================] - 16s 686us/step - loss: 3.6020 - multitask_loss: 3.6020 - acc: 0.3216 - val_loss: 4.6023 - val_multitask_loss: 4.6023 - val_acc: 0.1583\n",
      "Epoch 24/100\n",
      "22717/22717 [==============================] - 16s 684us/step - loss: 3.5611 - multitask_loss: 3.5611 - acc: 0.3254 - val_loss: 4.6356 - val_multitask_loss: 4.6356 - val_acc: 0.1645\n",
      "Epoch 25/100\n",
      "22717/22717 [==============================] - 15s 682us/step - loss: 3.5393 - multitask_loss: 3.5393 - acc: 0.3309 - val_loss: 4.5854 - val_multitask_loss: 4.5854 - val_acc: 0.1497\n",
      "Epoch 26/100\n",
      "22717/22717 [==============================] - 16s 690us/step - loss: 3.5133 - multitask_loss: 3.5133 - acc: 0.3364 - val_loss: 4.5713 - val_multitask_loss: 4.5713 - val_acc: 0.1534\n",
      "Epoch 27/100\n",
      "22717/22717 [==============================] - 16s 686us/step - loss: 3.4802 - multitask_loss: 3.4802 - acc: 0.3445 - val_loss: 4.5450 - val_multitask_loss: 4.5450 - val_acc: 0.1492\n",
      "Epoch 28/100\n",
      "22717/22717 [==============================] - 16s 686us/step - loss: 3.4609 - multitask_loss: 3.4609 - acc: 0.3489 - val_loss: 4.5464 - val_multitask_loss: 4.5464 - val_acc: 0.1932\n",
      "Epoch 29/100\n",
      "22717/22717 [==============================] - 16s 690us/step - loss: 3.4469 - multitask_loss: 3.4469 - acc: 0.3498 - val_loss: 4.5321 - val_multitask_loss: 4.5321 - val_acc: 0.1568\n",
      "Epoch 30/100\n",
      "22717/22717 [==============================] - 16s 688us/step - loss: 3.4258 - multitask_loss: 3.4258 - acc: 0.3541 - val_loss: 4.5674 - val_multitask_loss: 4.5674 - val_acc: 0.1595\n",
      "Epoch 31/100\n",
      "22717/22717 [==============================] - 16s 685us/step - loss: 3.4084 - multitask_loss: 3.4084 - acc: 0.3568 - val_loss: 4.5933 - val_multitask_loss: 4.5933 - val_acc: 0.1774\n",
      "Epoch 32/100\n",
      "22717/22717 [==============================] - 16s 686us/step - loss: 3.3955 - multitask_loss: 3.3955 - acc: 0.3568 - val_loss: 4.5502 - val_multitask_loss: 4.5502 - val_acc: 0.1694\n",
      "Epoch 33/100\n",
      "22717/22717 [==============================] - 16s 685us/step - loss: 3.3795 - multitask_loss: 3.3795 - acc: 0.3577 - val_loss: 4.5218 - val_multitask_loss: 4.5218 - val_acc: 0.1605\n",
      "Epoch 34/100\n",
      "22717/22717 [==============================] - 16s 688us/step - loss: 3.3680 - multitask_loss: 3.3680 - acc: 0.3607 - val_loss: 4.5992 - val_multitask_loss: 4.5992 - val_acc: 0.1660\n",
      "Epoch 35/100\n",
      "22717/22717 [==============================] - 16s 686us/step - loss: 3.3565 - multitask_loss: 3.3565 - acc: 0.3611 - val_loss: 4.6034 - val_multitask_loss: 4.6034 - val_acc: 0.1622\n",
      "Epoch 36/100\n",
      "22717/22717 [==============================] - 16s 687us/step - loss: 3.3295 - multitask_loss: 3.3295 - acc: 0.3651 - val_loss: 4.5567 - val_multitask_loss: 4.5567 - val_acc: 0.1595\n",
      "Epoch 37/100\n",
      "22717/22717 [==============================] - 16s 687us/step - loss: 3.3110 - multitask_loss: 3.3110 - acc: 0.3678 - val_loss: 4.5396 - val_multitask_loss: 4.5396 - val_acc: 0.1509\n",
      "Epoch 38/100\n",
      "22717/22717 [==============================] - 16s 686us/step - loss: 3.3000 - multitask_loss: 3.3000 - acc: 0.3644 - val_loss: 4.5252 - val_multitask_loss: 4.5252 - val_acc: 0.1738\n",
      "Epoch 39/100\n",
      "22717/22717 [==============================] - 16s 684us/step - loss: 3.2894 - multitask_loss: 3.2894 - acc: 0.3712 - val_loss: 4.5304 - val_multitask_loss: 4.5304 - val_acc: 0.1765\n",
      "Epoch 40/100\n",
      "22717/22717 [==============================] - 15s 668us/step - loss: 3.2734 - multitask_loss: 3.2734 - acc: 0.3765 - val_loss: 4.5022 - val_multitask_loss: 4.5022 - val_acc: 0.1803\n",
      "Epoch 41/100\n",
      "22717/22717 [==============================] - 16s 690us/step - loss: 3.2648 - multitask_loss: 3.2648 - acc: 0.3754 - val_loss: 4.5207 - val_multitask_loss: 4.5207 - val_acc: 0.1489\n",
      "Epoch 42/100\n",
      "22717/22717 [==============================] - 16s 694us/step - loss: 3.2532 - multitask_loss: 3.2532 - acc: 0.3767 - val_loss: 4.5491 - val_multitask_loss: 4.5491 - val_acc: 0.1583\n"
     ]
    },
    {
     "name": "stdout",
     "output_type": "stream",
     "text": [
      "Epoch 43/100\n",
      "22717/22717 [==============================] - 16s 694us/step - loss: 3.2374 - multitask_loss: 3.2374 - acc: 0.3776 - val_loss: 4.5205 - val_multitask_loss: 4.5205 - val_acc: 0.1777\n",
      "Epoch 44/100\n",
      "22717/22717 [==============================] - 16s 686us/step - loss: 3.2389 - multitask_loss: 3.2389 - acc: 0.3828 - val_loss: 4.4534 - val_multitask_loss: 4.4534 - val_acc: 0.1811\n",
      "Epoch 45/100\n",
      "22717/22717 [==============================] - 16s 687us/step - loss: 3.2270 - multitask_loss: 3.2270 - acc: 0.3795 - val_loss: 4.4947 - val_multitask_loss: 4.4947 - val_acc: 0.1752\n",
      "Epoch 46/100\n",
      "22717/22717 [==============================] - 16s 689us/step - loss: 3.2114 - multitask_loss: 3.2114 - acc: 0.3842 - val_loss: 4.5152 - val_multitask_loss: 4.5152 - val_acc: 0.1775\n",
      "Epoch 47/100\n",
      "22717/22717 [==============================] - 16s 686us/step - loss: 3.2028 - multitask_loss: 3.2028 - acc: 0.3857 - val_loss: 4.4831 - val_multitask_loss: 4.4831 - val_acc: 0.1595\n",
      "Epoch 48/100\n",
      "22717/22717 [==============================] - 16s 684us/step - loss: 3.1842 - multitask_loss: 3.1842 - acc: 0.3815 - val_loss: 4.5678 - val_multitask_loss: 4.5678 - val_acc: 0.1619\n",
      "Epoch 49/100\n",
      "22717/22717 [==============================] - 15s 680us/step - loss: 3.1790 - multitask_loss: 3.1790 - acc: 0.3839 - val_loss: 4.4600 - val_multitask_loss: 4.4600 - val_acc: 0.1484\n",
      "Epoch 50/100\n",
      "22717/22717 [==============================] - 15s 681us/step - loss: 3.1694 - multitask_loss: 3.1694 - acc: 0.3859 - val_loss: 4.4751 - val_multitask_loss: 4.4751 - val_acc: 0.1607\n",
      "Epoch 51/100\n",
      "22717/22717 [==============================] - 16s 684us/step - loss: 3.1516 - multitask_loss: 3.1516 - acc: 0.3946 - val_loss: 4.4859 - val_multitask_loss: 4.4859 - val_acc: 0.1598\n",
      "Epoch 52/100\n",
      "22717/22717 [==============================] - 15s 673us/step - loss: 3.1385 - multitask_loss: 3.1385 - acc: 0.3887 - val_loss: 4.4754 - val_multitask_loss: 4.4754 - val_acc: 0.1836\n",
      "Epoch 53/100\n",
      "22717/22717 [==============================] - 16s 684us/step - loss: 3.1412 - multitask_loss: 3.1412 - acc: 0.3923 - val_loss: 4.4419 - val_multitask_loss: 4.4419 - val_acc: 0.1803\n",
      "Epoch 54/100\n",
      "22717/22717 [==============================] - 15s 673us/step - loss: 3.1215 - multitask_loss: 3.1215 - acc: 0.3963 - val_loss: 4.4147 - val_multitask_loss: 4.4147 - val_acc: 0.1762\n",
      "Epoch 55/100\n",
      "22717/22717 [==============================] - 16s 684us/step - loss: 3.1186 - multitask_loss: 3.1186 - acc: 0.3977 - val_loss: 4.4307 - val_multitask_loss: 4.4307 - val_acc: 0.1796\n",
      "Epoch 56/100\n",
      "22717/22717 [==============================] - 16s 686us/step - loss: 3.1117 - multitask_loss: 3.1117 - acc: 0.3968 - val_loss: 4.4273 - val_multitask_loss: 4.4273 - val_acc: 0.1629\n",
      "Epoch 57/100\n",
      "22717/22717 [==============================] - 16s 683us/step - loss: 3.1093 - multitask_loss: 3.1093 - acc: 0.3917 - val_loss: 4.4302 - val_multitask_loss: 4.4302 - val_acc: 0.1645\n",
      "Epoch 58/100\n",
      "22717/22717 [==============================] - 15s 673us/step - loss: 3.0959 - multitask_loss: 3.0959 - acc: 0.3971 - val_loss: 4.4452 - val_multitask_loss: 4.4452 - val_acc: 0.1729\n",
      "Epoch 59/100\n",
      "22717/22717 [==============================] - 15s 681us/step - loss: 3.0836 - multitask_loss: 3.0836 - acc: 0.3966 - val_loss: 4.3980 - val_multitask_loss: 4.3980 - val_acc: 0.1703\n",
      "Epoch 60/100\n",
      "22717/22717 [==============================] - 16s 683us/step - loss: 3.0749 - multitask_loss: 3.0749 - acc: 0.4010 - val_loss: 4.4232 - val_multitask_loss: 4.4232 - val_acc: 0.1793\n",
      "Epoch 61/100\n",
      "22717/22717 [==============================] - 15s 681us/step - loss: 3.0763 - multitask_loss: 3.0763 - acc: 0.4022 - val_loss: 4.4478 - val_multitask_loss: 4.4478 - val_acc: 0.1486\n",
      "Epoch 62/100\n",
      "22717/22717 [==============================] - 16s 686us/step - loss: 3.0663 - multitask_loss: 3.0663 - acc: 0.4042 - val_loss: 4.4333 - val_multitask_loss: 4.4333 - val_acc: 0.1642\n",
      "Epoch 63/100\n",
      "22717/22717 [==============================] - 16s 690us/step - loss: 3.0683 - multitask_loss: 3.0683 - acc: 0.3997 - val_loss: 4.4121 - val_multitask_loss: 4.4121 - val_acc: 0.1846\n",
      "Epoch 64/100\n",
      "22717/22717 [==============================] - 16s 685us/step - loss: 3.0539 - multitask_loss: 3.0539 - acc: 0.4033 - val_loss: 4.3850 - val_multitask_loss: 4.3850 - val_acc: 0.1806\n",
      "Epoch 65/100\n",
      "22717/22717 [==============================] - 16s 689us/step - loss: 3.0414 - multitask_loss: 3.0414 - acc: 0.4034 - val_loss: 4.4742 - val_multitask_loss: 4.4742 - val_acc: 0.2049\n",
      "Epoch 66/100\n",
      "22717/22717 [==============================] - 16s 685us/step - loss: 3.0577 - multitask_loss: 3.0577 - acc: 0.4043 - val_loss: 4.4292 - val_multitask_loss: 4.4292 - val_acc: 0.1573\n",
      "Epoch 67/100\n",
      "22717/22717 [==============================] - 16s 684us/step - loss: 3.0415 - multitask_loss: 3.0415 - acc: 0.4025 - val_loss: 4.4266 - val_multitask_loss: 4.4266 - val_acc: 0.1688\n",
      "Epoch 68/100\n",
      "22717/22717 [==============================] - 16s 695us/step - loss: 3.0317 - multitask_loss: 3.0317 - acc: 0.4013 - val_loss: 4.4934 - val_multitask_loss: 4.4934 - val_acc: 0.1800\n",
      "Epoch 69/100\n",
      "22717/22717 [==============================] - 16s 688us/step - loss: 3.0263 - multitask_loss: 3.0263 - acc: 0.4076 - val_loss: 4.3963 - val_multitask_loss: 4.3963 - val_acc: 0.1907\n",
      "Epoch 70/100\n",
      "22717/22717 [==============================] - 16s 688us/step - loss: 3.0197 - multitask_loss: 3.0197 - acc: 0.4096 - val_loss: 4.4035 - val_multitask_loss: 4.4035 - val_acc: 0.1641\n",
      "Epoch 71/100\n",
      "22717/22717 [==============================] - 16s 691us/step - loss: 3.0159 - multitask_loss: 3.0159 - acc: 0.4084 - val_loss: 4.4144 - val_multitask_loss: 4.4144 - val_acc: 0.1855\n",
      "Epoch 72/100\n",
      "22717/22717 [==============================] - 15s 681us/step - loss: 3.0056 - multitask_loss: 3.0056 - acc: 0.4071 - val_loss: 4.4539 - val_multitask_loss: 4.4539 - val_acc: 0.1889\n",
      "Epoch 73/100\n",
      "22717/22717 [==============================] - 15s 680us/step - loss: 3.0028 - multitask_loss: 3.0028 - acc: 0.4108 - val_loss: 4.4033 - val_multitask_loss: 4.4033 - val_acc: 0.1690\n",
      "Epoch 74/100\n",
      "22717/22717 [==============================] - 15s 676us/step - loss: 3.0072 - multitask_loss: 3.0072 - acc: 0.4070 - val_loss: 4.4645 - val_multitask_loss: 4.4645 - val_acc: 0.1747\n",
      "Epoch 75/100\n",
      "22717/22717 [==============================] - 15s 679us/step - loss: 3.0006 - multitask_loss: 3.0006 - acc: 0.4135 - val_loss: 4.4592 - val_multitask_loss: 4.4592 - val_acc: 0.1774\n",
      "Epoch 76/100\n",
      "22717/22717 [==============================] - 16s 688us/step - loss: 2.9827 - multitask_loss: 2.9827 - acc: 0.4124 - val_loss: 4.3762 - val_multitask_loss: 4.3762 - val_acc: 0.1724\n",
      "Epoch 77/100\n",
      "22717/22717 [==============================] - 16s 693us/step - loss: 2.9925 - multitask_loss: 2.9925 - acc: 0.4071 - val_loss: 4.4306 - val_multitask_loss: 4.4306 - val_acc: 0.1641\n",
      "Epoch 78/100\n",
      "22717/22717 [==============================] - 16s 691us/step - loss: 2.9779 - multitask_loss: 2.9779 - acc: 0.4130 - val_loss: 4.4371 - val_multitask_loss: 4.4371 - val_acc: 0.1663\n",
      "Epoch 79/100\n",
      "22717/22717 [==============================] - 16s 692us/step - loss: 2.9975 - multitask_loss: 2.9975 - acc: 0.4071 - val_loss: 4.4598 - val_multitask_loss: 4.4598 - val_acc: 0.1636\n",
      "Epoch 80/100\n",
      "22717/22717 [==============================] - 16s 689us/step - loss: 3.0007 - multitask_loss: 3.0007 - acc: 0.4045 - val_loss: 4.4465 - val_multitask_loss: 4.4465 - val_acc: 0.2021\n",
      "Epoch 81/100\n",
      "22717/22717 [==============================] - 15s 678us/step - loss: 2.9861 - multitask_loss: 2.9861 - acc: 0.4104 - val_loss: 4.4610 - val_multitask_loss: 4.4610 - val_acc: 0.2030\n",
      "Epoch 82/100\n",
      "22717/22717 [==============================] - 15s 679us/step - loss: 2.9783 - multitask_loss: 2.9783 - acc: 0.4139 - val_loss: 4.4959 - val_multitask_loss: 4.4959 - val_acc: 0.1567\n",
      "Epoch 83/100\n",
      "22717/22717 [==============================] - 16s 687us/step - loss: 2.9720 - multitask_loss: 2.9720 - acc: 0.4160 - val_loss: 4.4271 - val_multitask_loss: 4.4271 - val_acc: 0.1775\n",
      "Epoch 84/100\n",
      "22717/22717 [==============================] - 16s 687us/step - loss: 2.9638 - multitask_loss: 2.9638 - acc: 0.4172 - val_loss: 4.3780 - val_multitask_loss: 4.3780 - val_acc: 0.2133\n",
      "Epoch 85/100\n"
     ]
    },
    {
     "name": "stdout",
     "output_type": "stream",
     "text": [
      "22717/22717 [==============================] - 16s 690us/step - loss: 2.9763 - multitask_loss: 2.9763 - acc: 0.4115 - val_loss: 4.3908 - val_multitask_loss: 4.3908 - val_acc: 0.1877\n",
      "Epoch 86/100\n",
      "22717/22717 [==============================] - 16s 687us/step - loss: 2.9695 - multitask_loss: 2.9695 - acc: 0.4148 - val_loss: 4.4447 - val_multitask_loss: 4.4447 - val_acc: 0.1703\n",
      "Epoch 87/100\n",
      "22717/22717 [==============================] - 16s 684us/step - loss: 2.9537 - multitask_loss: 2.9537 - acc: 0.4157 - val_loss: 4.3889 - val_multitask_loss: 4.3889 - val_acc: 0.1883\n",
      "Epoch 88/100\n",
      "22717/22717 [==============================] - 16s 690us/step - loss: 2.9448 - multitask_loss: 2.9448 - acc: 0.4145 - val_loss: 4.3867 - val_multitask_loss: 4.3867 - val_acc: 0.1894\n",
      "Epoch 89/100\n",
      "22717/22717 [==============================] - 16s 686us/step - loss: 2.9408 - multitask_loss: 2.9408 - acc: 0.4148 - val_loss: 4.4212 - val_multitask_loss: 4.4212 - val_acc: 0.1661\n",
      "Epoch 90/100\n",
      "22717/22717 [==============================] - 16s 686us/step - loss: 2.9455 - multitask_loss: 2.9455 - acc: 0.4206 - val_loss: 4.3812 - val_multitask_loss: 4.3812 - val_acc: 0.1627\n",
      "Epoch 91/100\n",
      "22717/22717 [==============================] - 15s 671us/step - loss: 2.9356 - multitask_loss: 2.9356 - acc: 0.4173 - val_loss: 4.3183 - val_multitask_loss: 4.3183 - val_acc: 0.1784\n",
      "Epoch 92/100\n",
      "22717/22717 [==============================] - 15s 679us/step - loss: 2.9471 - multitask_loss: 2.9471 - acc: 0.4193 - val_loss: 4.3619 - val_multitask_loss: 4.3619 - val_acc: 0.1889\n",
      "Epoch 93/100\n",
      "22717/22717 [==============================] - 16s 683us/step - loss: 2.9354 - multitask_loss: 2.9354 - acc: 0.4207 - val_loss: 4.3433 - val_multitask_loss: 4.3433 - val_acc: 0.1790\n",
      "Epoch 94/100\n",
      "22717/22717 [==============================] - 15s 675us/step - loss: 2.9252 - multitask_loss: 2.9252 - acc: 0.4202 - val_loss: 4.3646 - val_multitask_loss: 4.3646 - val_acc: 0.1494\n",
      "Epoch 95/100\n",
      "22717/22717 [==============================] - 15s 677us/step - loss: 2.9268 - multitask_loss: 2.9268 - acc: 0.4193 - val_loss: 4.3276 - val_multitask_loss: 4.3276 - val_acc: 0.1701\n",
      "Epoch 96/100\n",
      "22717/22717 [==============================] - 16s 688us/step - loss: 2.9276 - multitask_loss: 2.9276 - acc: 0.4185 - val_loss: 4.3882 - val_multitask_loss: 4.3882 - val_acc: 0.1854\n",
      "Epoch 97/100\n",
      "22717/22717 [==============================] - 15s 679us/step - loss: 2.9140 - multitask_loss: 2.9140 - acc: 0.4232 - val_loss: 4.3699 - val_multitask_loss: 4.3699 - val_acc: 0.1663\n",
      "Epoch 98/100\n",
      "22717/22717 [==============================] - 15s 676us/step - loss: 2.9132 - multitask_loss: 2.9132 - acc: 0.4180 - val_loss: 4.3642 - val_multitask_loss: 4.3642 - val_acc: 0.1978\n",
      "Epoch 99/100\n",
      "22717/22717 [==============================] - 16s 691us/step - loss: 2.9089 - multitask_loss: 2.9089 - acc: 0.4248 - val_loss: 4.3663 - val_multitask_loss: 4.3663 - val_acc: 0.1894\n",
      "Epoch 100/100\n",
      "22717/22717 [==============================] - 16s 688us/step - loss: 2.9141 - multitask_loss: 2.9141 - acc: 0.4195 - val_loss: 4.3672 - val_multitask_loss: 4.3672 - val_acc: 0.1797\n",
      "CPU times: user 15min 10s, sys: 8min 9s, total: 23min 19s\n",
      "Wall time: 25min 55s\n"
     ]
    }
   ],
   "source": [
    "#training\n",
    "%%time\n",
    "history = model.fit([video, gaze_q], label_q,\n",
    "          batch_size=1500,\n",
    "          epochs=100,\n",
    "          verbose=1, shuffle = True, validation_data = ([video_t, gaze_qt], label_qt))"
   ]
  },
  {
   "cell_type": "code",
   "execution_count": 42,
   "metadata": {},
   "outputs": [
    {
     "name": "stdout",
     "output_type": "stream",
     "text": [
      "dict_keys(['val_loss', 'val_multitask_loss', 'val_acc', 'loss', 'multitask_loss', 'acc'])\n"
     ]
    },
    {
     "data": {
      "image/png": "[encoded data removed]",
      "text/plain": [
       "<Figure size 432x288 with 1 Axes>"
      ]
     },
     "metadata": {
      "needs_background": "light"
     },
     "output_type": "display_data"
    }
   ],
   "source": [
    "#plotting accuracy graph\n",
    "print(history.history.keys())\n",
    "plt.plot(history.history['acc'])\n",
    "plt.plot(history.history['val_acc'])\n",
    "plt.title('Accuracy Graph')\n",
    "plt.ylabel('Accuracy Value')\n",
    "plt.xlabel('Number of Epochs')\n",
    "plt.legend(['Training', 'Validation'], loc='upper left')\n",
    "plt.show()"
   ]
  },
  {
   "cell_type": "code",
   "execution_count": 43,
   "metadata": {},
   "outputs": [
    {
     "data": {
      "image/png": "[encoded data removed]",
      "text/plain": [
       "<Figure size 432x288 with 1 Axes>"
      ]
     },
     "metadata": {
      "needs_background": "light"
     },
     "output_type": "display_data"
    }
   ],
   "source": [
    "# plotting loss graph\n",
    "plt.plot(history.history['loss'])\n",
    "plt.plot(history.history['val_loss'])\n",
    "plt.title('Loss Graph')\n",
    "plt.ylabel('Loss Value')\n",
    "plt.xlabel('Number of Epochs')\n",
    "plt.legend(['Training', 'Validation'], loc='lower left')\n",
    "plt.show()"
   ]
  },
  {
   "cell_type": "code",
   "execution_count": 44,
   "metadata": {},
   "outputs": [],
   "source": [
    "model.save(\"CNN_model_1d_ml3_simple_taken.h5\")"
   ]
  },
  {
   "cell_type": "code",
   "execution_count": 45,
   "metadata": {},
   "outputs": [
    {
     "name": "stdout",
     "output_type": "stream",
     "text": [
      "2974/2974 [==============================] - 1s 393us/step\n"
     ]
    },
    {
     "data": {
      "text/plain": [
       "[4.732328230371071, 4.732328230371071, 0.19233355754842354]"
      ]
     },
     "execution_count": 45,
     "metadata": {},
     "output_type": "execute_result"
    }
   ],
   "source": [
    "model.evaluate([video_v, gaze_qv], label_qv)"
   ]
  },
  {
   "cell_type": "code",
   "execution_count": null,
   "metadata": {},
   "outputs": [],
   "source": [
    "# Prediction\n",
    "result = model.predict([video_v, gaze_qv])\n",
    "# rounding of the results \n",
    "result[result>=0.5] =1\n",
    "result[result<0.5] =0"
   ]
  },
  {
   "cell_type": "code",
   "execution_count": 48,
   "metadata": {},
   "outputs": [
    {
     "name": "stdout",
     "output_type": "stream",
     "text": [
      "0.24153777180004482\n"
     ]
    }
   ],
   "source": [
    "#Calculating the Hamming loss\n",
    "print(hamming_loss(label_qv,result))"
   ]
  },
  {
   "cell_type": "code",
   "execution_count": 50,
   "metadata": {},
   "outputs": [
    {
     "name": "stdout",
     "output_type": "stream",
     "text": [
      "53\n",
      "Activity 1\n",
      "[[2388   58]\n",
      " [ 499   29]]\n",
      "Activity 2\n",
      "[[2081   65]\n",
      " [ 813   15]]\n",
      "Activity 3\n",
      "[[2175  106]\n",
      " [ 664   29]]\n",
      "Activity 4\n",
      "[[2363  102]\n",
      " [ 465   44]]\n",
      "Activity 5\n",
      "[[2013  117]\n",
      " [ 796   48]]\n",
      "Activity 6\n",
      "[[1953   82]\n",
      " [ 894   45]]\n",
      "Activity 7\n",
      "[[2675   28]\n",
      " [ 253   18]]\n",
      "Activity 8\n",
      "[[2582    8]\n",
      " [ 374   10]]\n",
      "Activity 9\n",
      "[[1507  150]\n",
      " [ 991  326]]\n"
     ]
    }
   ],
   "source": [
    "# Calculating the confusion matrices\n",
    "print(\"Activity 1\")\n",
    "print(confusion_matrix(label_qv[:,0], result[:,0]))\n",
    "print(\"Activity 2\")\n",
    "print(confusion_matrix(label_qv[:,1], result[:,1]))\n",
    "print(\"Activity 3\")\n",
    "print(confusion_matrix(label_qv[:,2], result[:,2]))\n",
    "print(\"Activity 4\")\n",
    "print(confusion_matrix(label_qv[:,3], result[:,3]))\n",
    "print(\"Activity 5\")\n",
    "print(confusion_matrix(label_qv[:,4], result[:,4]))\n",
    "print(\"Activity 6\")\n",
    "print(confusion_matrix(label_qv[:,5], result[:,5]))\n",
    "print(\"Activity 7\")\n",
    "print(confusion_matrix(label_qv[:,6], result[:,6]))\n",
    "print(\"Activity 8\")\n",
    "print(confusion_matrix(label_qv[:,7], result[:,7]))\n",
    "print(\"Activity 9\")\n",
    "print(confusion_matrix(label_qv[:,8], result[:,8]))"
   ]
  },
  {
   "cell_type": "code",
   "execution_count": 51,
   "metadata": {},
   "outputs": [
    {
     "name": "stdout",
     "output_type": "stream",
     "text": [
      "Activity 1\n",
      "[[80.29589778  1.95023537]\n",
      " [16.77874916  0.97511769]]\n",
      "Activity 2\n",
      "[[69.9731002   2.18560861]\n",
      " [27.33691997  0.50437122]]\n",
      "Activity 3\n",
      "[[73.1338265   3.56422327]\n",
      " [22.32683255  0.97511769]]\n",
      "Activity 4\n",
      "[[79.45527909  3.42972428]\n",
      " [15.63550773  1.4794889 ]]\n",
      "Activity 5\n",
      "[[67.68661735  3.93409549]\n",
      " [26.76529926  1.6139879 ]]\n",
      "Activity 6\n",
      "[[65.66913248  2.75722932]\n",
      " [30.06052455  1.51311365]]\n",
      "Activity 7\n",
      "[[89.9462004   0.94149294]\n",
      " [ 8.5070612   0.60524546]]\n",
      "Activity 8\n",
      "[[86.81909886  0.26899798]\n",
      " [12.57565568  0.33624748]]\n",
      "Activity 9\n",
      "[[50.67249496  5.04371217]\n",
      " [33.32212508 10.96166779]]\n"
     ]
    }
   ],
   "source": [
    "# Calculating the confusion matrices in percentage\n",
    "print(\"Activity 1\")\n",
    "a = confusion_matrix(label_qv[:,0], result[:,0])\n",
    "an = np.asarray(a)\n",
    "s = np.sum(an)\n",
    "print((an/s)*100)\n",
    "print(\"Activity 2\")\n",
    "a = confusion_matrix(label_qv[:,1], result[:,1])\n",
    "an = np.asarray(a)\n",
    "s = np.sum(an)\n",
    "print((an/s)*100)\n",
    "print(\"Activity 3\")\n",
    "a = confusion_matrix(label_qv[:,2], result[:,2])\n",
    "an = np.asarray(a)\n",
    "s = np.sum(an)\n",
    "print((an/s)*100)\n",
    "print(\"Activity 4\")\n",
    "a = confusion_matrix(label_qv[:,3], result[:,3])\n",
    "an = np.asarray(a)\n",
    "s = np.sum(an)\n",
    "print((an/s)*100)\n",
    "print(\"Activity 5\")\n",
    "a = confusion_matrix(label_qv[:,4], result[:,4])\n",
    "an = np.asarray(a)\n",
    "s = np.sum(an)\n",
    "print((an/s)*100)\n",
    "print(\"Activity 6\")\n",
    "a = confusion_matrix(label_qv[:,5], result[:,5])\n",
    "an = np.asarray(a)\n",
    "s = np.sum(an)\n",
    "print((an/s)*100)\n",
    "print(\"Activity 7\")\n",
    "a = confusion_matrix(label_qv[:,6], result[:,6])\n",
    "an = np.asarray(a)\n",
    "s = np.sum(an)\n",
    "print((an/s)*100)\n",
    "print(\"Activity 8\")\n",
    "a = confusion_matrix(label_qv[:,7], result[:,7])\n",
    "an = np.asarray(a)\n",
    "s = np.sum(an)\n",
    "print((an/s)*100)\n",
    "print(\"Activity 9\")\n",
    "a = confusion_matrix(label_qv[:,8], result[:,8])\n",
    "an = np.asarray(a)\n",
    "s = np.sum(an)\n",
    "print((an/s)*100)"
   ]
  }
 ],
 "metadata": {
  "kernelspec": {
   "display_name": "Python 3",
   "language": "python",
   "name": "python3"
  },
  "language_info": {
   "codemirror_mode": {
    "name": "ipython",
    "version": 3
   },
   "file_extension": ".py",
   "mimetype": "text/x-python",
   "name": "python",
   "nbconvert_exporter": "python",
   "pygments_lexer": "ipython3",
   "version": "3.6.7"
  }
 },
 "nbformat": 4,
 "nbformat_minor": 2
}
